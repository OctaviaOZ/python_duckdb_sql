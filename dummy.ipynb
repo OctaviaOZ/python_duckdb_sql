{
 "cells": [
  {
   "cell_type": "code",
   "execution_count": 1,
   "metadata": {},
   "outputs": [],
   "source": [
    "import pandas as pd\n",
    "import json\n",
    "\n",
    "# Set the file path\n",
    "file_path = r'***\\dummy.json'"
   ]
  },
  {
   "cell_type": "code",
   "execution_count": 2,
   "metadata": {},
   "outputs": [],
   "source": [
    "# Define a custom decoder that uses '\\n' as a delimiter\n",
    "class NewlineJSONDecoder(json.JSONDecoder):\n",
    "    def __init__(self, *args, **kwargs):\n",
    "        super().__init__(object_hook=self.object_hook, *args, **kwargs)\n",
    "        self.buffer = ''\n",
    "\n",
    "    def object_hook(self, obj):\n",
    "        return obj\n",
    "\n",
    "    def decode(self, s, *args, **kwargs):\n",
    "        s = self.buffer + s\n",
    "        lines = s.split('\\n')\n",
    "        for line in lines:\n",
    "            if line.strip() == '':\n",
    "                continue\n",
    "            obj, _ = super().raw_decode(line)\n",
    "            yield obj\n",
    "        self.buffer = lines[-1]\n",
    "        return ''"
   ]
  },
  {
   "cell_type": "markdown",
   "metadata": {},
   "source": [
    "with open(file_path, 'r') as f:\n",
    "    # Load the JSON data into a Python object\n",
    "    data = json.load(f)"
   ]
  },
  {
   "cell_type": "code",
   "execution_count": 3,
   "metadata": {},
   "outputs": [
    {
     "name": "stdout",
     "output_type": "stream",
     "text": [
      "   id  name  class              email\n",
      "0   1  Ault      8  ault@pynative.com\n",
      "1   2  john      8  jhon@pynative.com\n",
      "2   3  josh      8  josh@pynative.com\n",
      "3   4  emma      8  emma@pynative.com\n"
     ]
    }
   ],
   "source": [
    "# Open the file and read its contents\n",
    "with open(file_path, 'r') as f:\n",
    "    # Read the file contents as a string\n",
    "    file_contents = f.read()\n",
    "\n",
    "    # Split the file contents into separate JSON objects\n",
    "    json_objects = file_contents.split('\\n')\n",
    "\n",
    "    # Parse each JSON object and append its contents to a list\n",
    "    data_list = []\n",
    "    for json_object in json_objects:\n",
    "        if json_object.strip() == '':\n",
    "            continue\n",
    "        try:\n",
    "            data = json.loads(json_object)\n",
    "            data_list.append(data)\n",
    "        except json.JSONDecodeError as e:\n",
    "            print(f'Error decoding JSON: {e}')\n",
    "\n",
    "# Convert the list of objects to a Pandas DataFrame\n",
    "df = pd.json_normalize(data_list)\n",
    "\n",
    "# Print the DataFrame\n",
    "print(df)"
   ]
  },
  {
   "cell_type": "code",
   "execution_count": 4,
   "metadata": {},
   "outputs": [
    {
     "name": "stdout",
     "output_type": "stream",
     "text": [
      "{'id': 1, 'name': 'Ault', 'class': 8, 'email': 'ault@pynative.com'}\n",
      "{'id': 2, 'name': 'john', 'class': 8, 'email': 'jhon@pynative.com'}\n",
      "{'id': 3, 'name': 'josh', 'class': 8, 'email': 'josh@pynative.com'}\n",
      "{'id': 4, 'name': 'emma', 'class': 8, 'email': 'emma@pynative.com'}\n"
     ]
    }
   ],
   "source": [
    "# Open the file and read its contents\n",
    "with open(file_path, 'r') as f:\n",
    "    # Create a custom decoder that uses '\\n' as a delimiter\n",
    "    decoder = NewlineJSONDecoder()\n",
    "\n",
    "    # Read the JSON objects one at a time and print their contents\n",
    "    for obj in decoder.decode(f.read()):\n",
    "        print(obj)"
   ]
  },
  {
   "cell_type": "code",
   "execution_count": 5,
   "metadata": {},
   "outputs": [],
   "source": [
    "import json"
   ]
  },
  {
   "cell_type": "code",
   "execution_count": 6,
   "metadata": {},
   "outputs": [],
   "source": [
    "# Set the file path\n",
    "file_path_ads = r'C:\\GitHub\\technical_challenge\\python_sql\\ads.json'\n",
    "file_path_views = r'C:\\GitHub\\technical_challenge\\python_sql\\views.json'"
   ]
  },
  {
   "cell_type": "code",
   "execution_count": 7,
   "metadata": {},
   "outputs": [],
   "source": [
    "# Open the file and read its contents\n",
    "with open(file_path_ads, 'r') as f:\n",
    "    # Read the file contents as a string\n",
    "    file_contents = f.read()\n",
    "\n",
    "    # Split the file contents into separate JSON objects\n",
    "    json_objects = file_contents.split('\\n')\n",
    "\n",
    "    # Parse each JSON object and append its contents to a list\n",
    "    data_ads = []\n",
    "    for json_object in json_objects:\n",
    "        if json_object.strip() == '':\n",
    "            continue\n",
    "        try:\n",
    "            data = json.loads(json_object)\n",
    "            data_ads.append(data)\n",
    "        except json.JSONDecodeError as e:\n",
    "            print(f'Error decoding JSON: {e}')"
   ]
  },
  {
   "cell_type": "code",
   "execution_count": 8,
   "metadata": {},
   "outputs": [],
   "source": [
    "# Open the file and read its contents\n",
    "with open(file_path_ads, 'r') as f:\n",
    "    # Read the file contents as a string\n",
    "    file_contents = f.read()\n",
    "\n",
    "    # Split the file contents into separate JSON objects\n",
    "    json_objects = file_contents.split('\\n')\n",
    "\n",
    "    # Parse each JSON object and append its contents to a list\n",
    "    data_views = []\n",
    "    for json_object in json_objects:\n",
    "        if json_object.strip() == '':\n",
    "            continue\n",
    "        try:\n",
    "            data = json.loads(json_object)\n",
    "            data_views.append(data)\n",
    "        except json.JSONDecodeError as e:\n",
    "            print(f'Error decoding JSON: {e}')"
   ]
  },
  {
   "cell_type": "code",
   "execution_count": 20,
   "metadata": {},
   "outputs": [],
   "source": [
    "# Set the search criteria\n",
    "criteria = {\n",
    "    'exteriorColor': 'BLACK',\n",
    "}\n",
    "\n",
    "# 'make': 'MERCEDES-BENZ',\n",
    "#   'date': '2022-01-30'"
   ]
  },
  {
   "cell_type": "code",
   "execution_count": 10,
   "metadata": {},
   "outputs": [],
   "source": [
    "json_data_views = json.dumps(data_views)\n",
    "json_data_ads = json.dumps(data_ads)"
   ]
  },
  {
   "cell_type": "code",
   "execution_count": 11,
   "metadata": {},
   "outputs": [
    {
     "name": "stdout",
     "output_type": "stream",
     "text": [
      "attributes.exteriorColor BLACK\n"
     ]
    }
   ],
   "source": [
    "for key, value in criteria.items():\n",
    "    print(key, value)"
   ]
  },
  {
   "cell_type": "code",
   "execution_count": 14,
   "metadata": {},
   "outputs": [],
   "source": [
    "filtered_ads = [ad for ad in data_ads]"
   ]
  },
  {
   "cell_type": "code",
   "execution_count": 17,
   "metadata": {},
   "outputs": [
    {
     "data": {
      "text/plain": [
       "'SILVER'"
      ]
     },
     "execution_count": 17,
     "metadata": {},
     "output_type": "execute_result"
    }
   ],
   "source": [
    "filtered_ads[1].get('attributes').get('exteriorColor')"
   ]
  },
  {
   "cell_type": "code",
   "execution_count": 21,
   "metadata": {},
   "outputs": [],
   "source": [
    "filtered_ads = [ad for ad in data_ads if all(ad.get('attributes').get(key) == value for key, value in criteria.items())]\n",
    "filtered_ad_ids = [ad['id'] for ad in filtered_ads]"
   ]
  },
  {
   "cell_type": "code",
   "execution_count": 23,
   "metadata": {},
   "outputs": [
    {
     "data": {
      "text/plain": [
       "['450448622',\n",
       " '461071152',\n",
       " '454398195',\n",
       " '454398195',\n",
       " '460348033',\n",
       " '455809635',\n",
       " '460348033',\n",
       " '459108703',\n",
       " '461776735',\n",
       " '460375612',\n",
       " '450884681',\n",
       " '461129527',\n",
       " '447175492',\n",
       " '451009086',\n",
       " '447175492',\n",
       " '451009086',\n",
       " '447175492',\n",
       " '451009086',\n",
       " '451624568',\n",
       " '453028636']"
      ]
     },
     "execution_count": 23,
     "metadata": {},
     "output_type": "execute_result"
    }
   ],
   "source": [
    "filtered_ad_ids"
   ]
  },
  {
   "cell_type": "code",
   "execution_count": null,
   "metadata": {},
   "outputs": [],
   "source": [
    "# Filter the views data based on the filtered ad IDs and the search date\n",
    "filtered_views = [view for view in data_views if view['ad_id'] in filtered_ad_ids and view['date'] == criteria['date']]\n",
    "\n",
    "# Print the filtered views data\n",
    "print(filtered_views)"
   ]
  }
 ],
 "metadata": {
  "kernelspec": {
   "display_name": "Python 3",
   "language": "python",
   "name": "python3"
  },
  "language_info": {
   "codemirror_mode": {
    "name": "ipython",
    "version": 3
   },
   "file_extension": ".py",
   "mimetype": "text/x-python",
   "name": "python",
   "nbconvert_exporter": "python",
   "pygments_lexer": "ipython3",
   "version": "3.10.11"
  },
  "orig_nbformat": 4
 },
 "nbformat": 4,
 "nbformat_minor": 2
}
